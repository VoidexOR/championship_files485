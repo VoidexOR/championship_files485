{
 "cells": [
  {
   "attachments": {},
   "cell_type": "markdown",
   "metadata": {},
   "source": [
    "Импорт библиотек"
   ]
  },
  {
   "cell_type": "code",
   "execution_count": 2,
   "metadata": {},
   "outputs": [],
   "source": [
    "import pdfplumber\n",
    "import pandas as pd"
   ]
  },
  {
   "attachments": {},
   "cell_type": "markdown",
   "metadata": {},
   "source": [
    "Создание парсера данных из .pdf файла"
   ]
  },
  {
   "cell_type": "code",
   "execution_count": 6,
   "metadata": {},
   "outputs": [
    {
     "name": "stdout",
     "output_type": "stream",
     "text": [
      "      Index      Фамилия         Имя и отчество Дата рождения\n",
      "0         0      АКСЁНОВ       Павел Трофимович          1895\n",
      "1         1  АЛЕКСАНДРОВ        Яков Михайлович          1908\n",
      "2         2  АЛЕКСАНДРОВ       Николай Иванович          1925\n",
      "3         3      АКСЁНОВ       Фёдор Трофимович          1911\n",
      "4         4      АКСЁНОВ  Сергей Константинович          1990\n",
      "...     ...          ...                    ...           ...\n",
      "2348   2348        РУФОВ        Николай Кузьмич          1908\n",
      "2349   2349    undefined      Пётр Владимирович          1911\n",
      "2350   2350       ИВАНОВ       Пётр Григорьевич          1908\n",
      "2351   2351       ИВАНОВ     Николай Алексеевич          1925\n",
      "2352   2352       ИВАНОВ   Александр Филиппович          1943\n",
      "\n",
      "[2353 rows x 4 columns]\n"
     ]
    }
   ],
   "source": [
    "df = pd.DataFrame(columns={'Index': [], 'Фамилия' : [], 'Имя и отчество': [], 'Дата рождения': []})\n",
    "with pdfplumber.open('15-soldiers_of_victory_15.pdf') as pdf:\n",
    "    count = 0\n",
    "    for page in pdf.pages[73:]:\n",
    "        # конвертируем текст из файла\n",
    "        text = page.extract_text()\n",
    "        tokens = text.split(' ')\n",
    "        # начинаем поиск элементов по ключевому слову \"род.\"\n",
    "        indexes = [i for i, c in enumerate(tokens) if c == 'род.']\n",
    "        for i in indexes:\n",
    "            last_name = None\n",
    "            for t in tokens[i:]:\n",
    "                # определяем фамилию (может подобрать неправильно из-за неправильного формата .pdf файла)\n",
    "                last_name = [t for t in tokens[:i] if t.endswith('ОВ*')]\n",
    "                if len(last_name) >= 1:\n",
    "                    true_name = last_name[-1]\n",
    "                    if '\\n' in true_name:\n",
    "                        true_name = true_name[true_name.index('\\n') + 1:]\n",
    "                    last_name = true_name.replace('*', '')\n",
    "                else: last_name = 'undefined'\n",
    "                # имя и отчество\n",
    "                almost_full_name = ' '.join(tokens[i-2:i])\n",
    "                if '\\n' in almost_full_name:\n",
    "                    almost_full_name = almost_full_name[almost_full_name.index('\\n') + 1:]\n",
    "                almost_full_name = almost_full_name.replace(',', '')\n",
    "                if '1' in t and len(t) == 4:\n",
    "                    # определяем год, заносим найденные результаты в датафрейм и прерываем итерацию\n",
    "                    df.loc[len(df.index)] = [count, last_name, almost_full_name, t]\n",
    "                    count += 1\n",
    "                    break\n",
    "    print(df)\n",
    "    df.to_csv('parsed_data.csv', index=False)"
   ]
  }
 ],
 "metadata": {
  "kernelspec": {
   "display_name": "Python 3",
   "language": "python",
   "name": "python3"
  },
  "language_info": {
   "codemirror_mode": {
    "name": "ipython",
    "version": 3
   },
   "file_extension": ".py",
   "mimetype": "text/x-python",
   "name": "python",
   "nbconvert_exporter": "python",
   "pygments_lexer": "ipython3",
   "version": "3.11.3"
  },
  "orig_nbformat": 4
 },
 "nbformat": 4,
 "nbformat_minor": 2
}
