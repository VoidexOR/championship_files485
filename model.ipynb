{
 "cells": [
  {
   "attachments": {},
   "cell_type": "markdown",
   "metadata": {},
   "source": [
    "Импорт библиотек"
   ]
  },
  {
   "cell_type": "code",
   "execution_count": 15,
   "metadata": {},
   "outputs": [],
   "source": [
    "import pandas as pd\n",
    "import tensorflow as tf\n",
    "from sklearn.model_selection import train_test_split\n",
    "import os"
   ]
  },
  {
   "attachments": {},
   "cell_type": "markdown",
   "metadata": {},
   "source": [
    "Получение набора данных и их обработка"
   ]
  },
  {
   "cell_type": "code",
   "execution_count": 14,
   "metadata": {},
   "outputs": [],
   "source": [
    "df = pd.read_csv('parsed_data.csv')\n",
    "df = df.drop('Unnamed: 0', axis='columns')\n",
    "df_train, df_test = train_test_split(df, test_size=0.1)\n",
    "\n",
    "# определение кол-ва строк и столбцов в каждом наборе данных\n",
    "num_train_entries = df_train.shape[0]\n",
    "num_train_features = df_train.shape[1] - 1\n",
    "\n",
    "num_test_entries = df_test.shape[0]\n",
    "num_test_features = df_test.shape[1] - 1\n",
    "\n",
    "# запись существующих наборов данных\n",
    "df_train.to_csv('train_temp.csv', index=False)\n",
    "df_test.to_csv('test_temp.csv', index=False)\n",
    "\n",
    "# запись размерностей в отдельные файлы\n",
    "open(\"war_train.csv\", \"w\").write(str(num_train_entries) +\n",
    "\",\" + str(num_train_features) +\n",
    "\",\" + open(\"train_temp.csv\").read())\n",
    "\n",
    "open(\"war_test.csv\", \"w\").write(str(num_test_entries) +\n",
    "\",\" + str(num_train_features) +\n",
    "\",\" + open(\"test_temp.csv\").read())\n",
    "\n",
    "# удаление временных файлов\n",
    "os.remove('war_train.csv')\n",
    "os.remove('war_test.csv')\n",
    "\n",
    "# Функция для формирования входных данных для теста\n",
    "def get_test_inputs():\n",
    "    x = tf.constant(test_set.data)\n",
    "    y = tf.constant(test_set.target)\n",
    "\n",
    "    return x, y\n",
    "\n",
    "# Функция для формирования входных данных для тренировки\n",
    "def get_train_inputs():\n",
    "    x = tf.constant(training_set.data)\n",
    "    y = tf.constant(training_set.target)\n",
    "\n",
    "    return x, y\n",
    "\n",
    "def new_samples():\n",
    "    return np_array(['ИВАНОВ']), "
   ]
  },
  {
   "attachments": {},
   "cell_type": "markdown",
   "metadata": {},
   "source": [
    "Работа над данным файлом была прервана в связи с нехваткой времени "
   ]
  }
 ],
 "metadata": {
  "kernelspec": {
   "display_name": "Python 3",
   "language": "python",
   "name": "python3"
  },
  "language_info": {
   "codemirror_mode": {
    "name": "ipython",
    "version": 3
   },
   "file_extension": ".py",
   "mimetype": "text/x-python",
   "name": "python",
   "nbconvert_exporter": "python",
   "pygments_lexer": "ipython3",
   "version": "3.11.3"
  },
  "orig_nbformat": 4
 },
 "nbformat": 4,
 "nbformat_minor": 2
}
